{
 "cells": [
  {
   "cell_type": "code",
   "execution_count": 1,
   "metadata": {},
   "outputs": [
    {
     "name": "stdout",
     "output_type": "stream",
     "text": [
      "Success if you change: 69 out of 100\n",
      "Success if you do not change: 31 out of 100\n",
      "Success rate if you change: 69.00%\n",
      "Success rate if you do not change: 31.00%\n"
     ]
    }
   ],
   "source": [
    "import random\n",
    "\n",
    "def monty_hall_problem(number_of_experiments=100):\n",
    "    success_if_change = 0\n",
    "    success_if_not_change = 0\n",
    "\n",
    "    for _ in range(number_of_experiments):\n",
    "        # Randomly place the car\n",
    "        car_position = random.randint(1, 3)\n",
    "        \n",
    "        # Participant makes an initial choice\n",
    "        initial_choice = random.randint(1, 3)\n",
    "        \n",
    "        # A door without a car behind it is opened by Monty\n",
    "        remaining_doors = [door for door in [1, 2, 3] if door != initial_choice and door != car_position]\n",
    "        host_opens = random.choice(remaining_doors)\n",
    "        \n",
    "        # Door that is left to switch to\n",
    "        switch_choice = [door for door in [1, 2, 3] if door != initial_choice and door != host_opens][0]\n",
    "        \n",
    "        # Check if switching would win\n",
    "        if switch_choice == car_position:\n",
    "            success_if_change =  success_if_change +   1\n",
    "        \n",
    "        # Check if staying would win\n",
    "        if initial_choice == car_position:\n",
    "            success_if_not_change = success_if_not_change + 1\n",
    "\n",
    "    return success_if_change, success_if_not_change\n",
    "\n",
    "# Run the simulation\n",
    "num_experiments = 100\n",
    "change_success, no_change_success = monty_hall_problem(num_experiments)\n",
    "\n",
    "print(f\"Success if you change: {change_success} out of {num_experiments}\")\n",
    "print(f\"Success if you do not change: {no_change_success} out of {num_experiments}\")\n",
    "\n",
    "# Conclusion\n",
    "change_success_rate = change_success / num_experiments * 100\n",
    "no_change_success_rate = no_change_success / num_experiments * 100\n",
    "print(f\"Success rate if you change: {change_success_rate:.2f}%\")\n",
    "print(f\"Success rate if you do not change: {no_change_success_rate:.2f}%\")\n"
   ]
  },
  {
   "cell_type": "markdown",
   "metadata": {},
   "source": [
    "The results of the program clearly show that switching significantly increases your chances. However, I still find it difficult to imagine this result, as we as participants don't really know any more after the first door has been opened than before, except that the car is not behind the first open door."
   ]
  }
 ],
 "metadata": {
  "kernelspec": {
   "display_name": "Python 3",
   "language": "python",
   "name": "python3"
  },
  "language_info": {
   "codemirror_mode": {
    "name": "ipython",
    "version": 3
   },
   "file_extension": ".py",
   "mimetype": "text/x-python",
   "name": "python",
   "nbconvert_exporter": "python",
   "pygments_lexer": "ipython3",
   "version": "3.12.4"
  }
 },
 "nbformat": 4,
 "nbformat_minor": 2
}
